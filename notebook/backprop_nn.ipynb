{
 "cells": [
  {
   "cell_type": "markdown",
   "metadata": {},
   "source": [
    "## Backpropagation from Scratch for training Neural Network"
   ]
  },
  {
   "cell_type": "markdown",
   "metadata": {},
   "source": [
    "### Problem Statement\n",
    "- In this notebook, we are implementing Backpropagation from scratch to train neural network in order to classify the given face image into happy or sad class"
   ]
  },
  {
   "cell_type": "markdown",
   "metadata": {},
   "source": [
    "### Dataset\n",
    "- Dataset contains 20 files in train folder and 10 files in test folder.\n",
    "- In train folder, there are 10 happy images and 10 sad images\n",
    "- In test folder, there are 5 happy images and 5 sad images\n",
    "- Each image is of dimension 101 x 101."
   ]
  },
  {
   "cell_type": "markdown",
   "metadata": {},
   "source": [
    "### Importing required packages"
   ]
  },
  {
   "cell_type": "code",
   "execution_count": 3,
   "metadata": {},
   "outputs": [],
   "source": [
    "import os \n",
    "from PIL import Image\n",
    "import numpy as np \n",
    "import matplotlib.pyplot as plt \n",
    "import math\n",
    "from sklearn.decomposition import PCA "
   ]
  },
  {
   "cell_type": "markdown",
   "metadata": {},
   "source": [
    "We set some print options for better visibility"
   ]
  },
  {
   "cell_type": "code",
   "execution_count": 4,
   "metadata": {},
   "outputs": [],
   "source": [
    "np.set_printoptions(precision=3, suppress=True)"
   ]
  },
  {
   "cell_type": "markdown",
   "metadata": {},
   "source": [
    "### Creating feature matrices (X_train and X_test) and target vectors (y_train and y_test)"
   ]
  },
  {
   "cell_type": "code",
   "execution_count": null,
   "metadata": {},
   "outputs": [],
   "source": [
    "folder_name = 'emotion_classification'\n",
    "X_train = []\n",
    "X_test = []\n",
    "y_train = []\n",
    "y_test = []\n",
    "for data_type in ('test', 'train'):\n",
    "    folder_path = os.path.join(folder_name, data_type)\n",
    "    for file_name in os.listdir(folder_path):\n",
    "        file_path = os.path.join(folder_name, data_type, file_name)\n",
    "        gif = Image.open(file_path)\n",
    "        np_data = np.asarray(gif)\n",
    "        x = np_data.reshape(-1)\n",
    "        if 'happy' in file_name:\n",
    "            y = 1\n",
    "        else:\n",
    "            y = 0\n",
    "        if data_type == 'train':\n",
    "            X_train.append(x)\n",
    "            y_train.append(y)\n",
    "        else:\n",
    "            X_test.append(x)\n",
    "            y_test.append(y)\n",
    "X_train = np.asarray(X_train)\n",
    "y_train = np.asarray(y_train)\n",
    "X_test = np.asarray(X_test)\n",
    "y_test = np.asarray(y_test)"
   ]
  }
 ],
 "metadata": {
  "kernelspec": {
   "display_name": "Python 3",
   "language": "python",
   "name": "python3"
  },
  "language_info": {
   "codemirror_mode": {
    "name": "ipython",
    "version": 3
   },
   "file_extension": ".py",
   "mimetype": "text/x-python",
   "name": "python",
   "nbconvert_exporter": "python",
   "pygments_lexer": "ipython3",
   "version": "3.10.13"
  }
 },
 "nbformat": 4,
 "nbformat_minor": 2
}
