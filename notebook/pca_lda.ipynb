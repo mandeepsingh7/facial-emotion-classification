{
 "cells": [
  {
   "cell_type": "markdown",
   "metadata": {},
   "source": [
    "# Facial Emotion Recognition"
   ]
  },
  {
   "cell_type": "markdown",
   "metadata": {},
   "source": [
    "### Problem Statement\n",
    "- In this project, we are trying to increase class separability in a high dimensional, low sample size dataset using PCA and LDA.\n",
    "- We will implement PCA and LDA from scratch"
   ]
  },
  {
   "cell_type": "markdown",
   "metadata": {},
   "source": [
    "### Dataset\n",
    "- Dataset contains 20 files in train folder and 10 files in test folder.\n",
    "- In train folder, there are 10 happy images and 10 sad images\n",
    "- In test folder, there are 5 happy images and 5 sad images\n",
    "- Each image is of dimension 101 x 101."
   ]
  },
  {
   "cell_type": "markdown",
   "metadata": {},
   "source": [
    "### Importing required packages"
   ]
  },
  {
   "cell_type": "code",
   "execution_count": 1,
   "metadata": {},
   "outputs": [],
   "source": [
    "import os\n",
    "from PIL import Image \n",
    "import numpy as np \n",
    "import matplotlib.pyplot as plt "
   ]
  },
  {
   "cell_type": "markdown",
   "metadata": {},
   "source": [
    "We set some print options for better visibility"
   ]
  },
  {
   "cell_type": "code",
   "execution_count": 2,
   "metadata": {},
   "outputs": [],
   "source": [
    "np.set_printoptions(precision=3, suppress=True)"
   ]
  },
  {
   "cell_type": "markdown",
   "metadata": {},
   "source": [
    "### Creating feature matrices (X_train and X_test) and target vectors (y_train and y_test)"
   ]
  },
  {
   "cell_type": "markdown",
   "metadata": {},
   "source": [
    "- Each gif has shape (101, 101).\n",
    "- For each image, we first flatten the image, which involves reshaping the 2D image array to 1D vector.\n",
    "- And then we populate X_train and X_test(feature matrices) with 1D image vector and y_train and y_test (target vectors) with image labels."
   ]
  },
  {
   "cell_type": "code",
   "execution_count": 6,
   "metadata": {},
   "outputs": [],
   "source": [
    "folder_name = 'data'\n",
    "X_train = []\n",
    "X_test = []\n",
    "y_train = []\n",
    "y_test = []\n",
    "for data_type in ('test', 'train'):\n",
    "    folder_path = os.path.join(folder_name, data_type)\n",
    "    for file_name in os.listdir(folder_path):\n",
    "        file_path = os.path.join(folder_name, data_type, file_name)\n",
    "        gif = Image.open(file_path)\n",
    "        np_data = np.asarray(gif)\n",
    "        x = np_data.reshape(-1)\n",
    "        if 'happy' in file_name:\n",
    "            y = 1\n",
    "        else:\n",
    "            y = 0\n",
    "        if data_type == 'train':\n",
    "            X_train.append(x)\n",
    "            y_train.append(y)\n",
    "        else:\n",
    "            X_test.append(x)\n",
    "            y_test.append(y)\n",
    "X_train = np.asarray(X_train)\n",
    "y_train = np.asarray(y_train)\n",
    "X_test = np.asarray(X_test)\n",
    "y_test = np.asarray(y_test)"
   ]
  },
  {
   "cell_type": "code",
   "execution_count": 7,
   "metadata": {},
   "outputs": [
    {
     "name": "stdout",
     "output_type": "stream",
     "text": [
      "Shape of X_train = (20, 10201)\n",
      "Shape of y_train = (20,)\n",
      "Shape of X_test = (10, 10201)\n",
      "Shape of y_test = (10,)\n"
     ]
    }
   ],
   "source": [
    "print(f'Shape of X_train = {X_train.shape}')\n",
    "print(f'Shape of y_train = {y_train.shape}')\n",
    "print(f'Shape of X_test = {X_test.shape}')\n",
    "print(f'Shape of y_test = {y_test.shape}')"
   ]
  },
  {
   "cell_type": "markdown",
   "metadata": {},
   "source": [
    "- We observe that we have high dimensional, low sample dataset"
   ]
  },
  {
   "cell_type": "markdown",
   "metadata": {},
   "source": [
    "## PCA"
   ]
  },
  {
   "cell_type": "markdown",
   "metadata": {},
   "source": [
    "We will first compute the mean for each feature in the training data. We will use this mean to calculate mean-centered data for both training and test data."
   ]
  },
  {
   "cell_type": "code",
   "execution_count": 8,
   "metadata": {},
   "outputs": [
    {
     "data": {
      "text/plain": [
       "array([ 59.65,  66.  ,  70.85, ..., 101.25, 110.15, 118.55])"
      ]
     },
     "execution_count": 8,
     "metadata": {},
     "output_type": "execute_result"
    }
   ],
   "source": [
    "mean = np.mean(X_train, axis = 0)\n",
    "mean "
   ]
  },
  {
   "cell_type": "code",
   "execution_count": 10,
   "metadata": {},
   "outputs": [],
   "source": [
    "X_train_centered = X_train - mean\n",
    "X_test_centered = X_test - mean "
   ]
  },
  {
   "cell_type": "markdown",
   "metadata": {},
   "source": [
    "- Generally, we use eigen decomposition of X.T @ X to compute PCA, but in this case, eigen decomposition will be too expensive for a matrix of size (77760, 77760). Complexity = O(77760^3)\n",
    "\n",
    "- Instead, we will use eigen decomposition of X @ X.T to compute PCA, in this case, the eigen decomposition of a matrix of size (21, 21) won't be computationally expensive. Complexity = O(21^3)"
   ]
  },
  {
   "cell_type": "code",
   "execution_count": 11,
   "metadata": {},
   "outputs": [],
   "source": [
    "class PCA_scratch:\n",
    "    # num_components refers to the number of principal components that we choose to retain.\n",
    "    # principal_components will remain None till we fit some data. \n",
    "    def __init__(self, num_components) :\n",
    "        self.num_components = num_components \n",
    "        self.principal_components = None \n",
    "    \n",
    "    def fit(self, X):\n",
    "        # N is the number of data points\n",
    "        N = X.shape[0]\n",
    "        \n",
    "        # Eigen value decomposition of (X @ X.T / (N-1))\n",
    "        matrix = X @ X.T / (N-1)\n",
    "        eig_val, eig_vec = np.linalg.eig(matrix)\n",
    "        \n",
    "        # Sorting eigen values and eigen vectors in decreasing order\n",
    "        index = np.argsort(eig_val)[::-1]\n",
    "        eig_val = eig_val[index]\n",
    "        eig_vec = eig_vec[:, index]\n",
    "        \n",
    "        # Getting Princial components from Eigen vectors of X @ X.T / (N-1)\n",
    "        eig_vec = X.T @ eig_vec\n",
    "        eig_vec = eig_vec / np.array([np.linalg.norm(eig_vec[:, i]) for i in range(eig_vec.shape[1])])\n",
    "        \n",
    "        # Choosing principal components given by num_components\n",
    "        self.principal_components = eig_vec.T[:self.num_components]\n",
    "        \n",
    "        return self.principal_components \n",
    "    \n",
    "    # Only do transform after doing fit. If you do not do fit, then principal_components will be None\n",
    "    def transform(self, X):\n",
    "        # Transforming high dimension data into low dimension data\n",
    "        Xr = self.principal_components @ X.T\n",
    "        return Xr.T\n",
    "    \n",
    "    def fit_transform(self, X):\n",
    "        # fit and transform both steps in single function\n",
    "        self.fit(X)\n",
    "        return self.transform(X) "
   ]
  },
  {
   "cell_type": "code",
   "execution_count": 13,
   "metadata": {},
   "outputs": [
    {
     "name": "stdout",
     "output_type": "stream",
     "text": [
      "Shape of the original feature matrix = (20, 10201)\n",
      "Shape of the reduced feature matrix = (20, 15)\n"
     ]
    }
   ],
   "source": [
    "k = 15\n",
    "# k indicates the number of principal components we want\n",
    "pca_1 = PCA_scratch(k)\n",
    "Xr = pca_1.fit_transform(X_train_centered)\n",
    "# Xr represents the reduces feature matrix\n",
    "print(f'Shape of the original feature matrix = {X_train_centered.shape}')\n",
    "print(f'Shape of the reduced feature matrix = {Xr.shape}')"
   ]
  },
  {
   "cell_type": "markdown",
   "metadata": {},
   "source": [
    "- We observe that by using PCA, we have reduced the number of features from 10201 to 15 "
   ]
  },
  {
   "cell_type": "markdown",
   "metadata": {},
   "source": [
    "## LDA"
   ]
  },
  {
   "cell_type": "code",
   "execution_count": 14,
   "metadata": {},
   "outputs": [],
   "source": [
    "class LDA_scratch:\n",
    "    # We are only considering Binary classification case (number of classes = 2)\n",
    "    def __init__(self) :\n",
    "        self.num_components = 1\n",
    "        self.linear_discriminant = None \n",
    "    \n",
    "    def fit(self, X, y):\n",
    "        classes = np.unique(y)\n",
    "        \n",
    "        k = X.shape[1]\n",
    "        \n",
    "        # Within class covariance matrix\n",
    "        Sw = np.zeros((k, k))\n",
    "        \n",
    "        for i in classes:\n",
    "            indices = []\n",
    "            for j in range(len(y)):\n",
    "                if y[j] == i :\n",
    "                    indices.append(j)\n",
    "            \n",
    "            X_class = X[indices]\n",
    "            mean_class = np.mean(X_class, axis=0)\n",
    "            \n",
    "            if classes[i] == classes[0]:\n",
    "                mean_1 = mean_class \n",
    "                Sw = Sw + ((X_class - mean_class).T @ (X_class - mean_class)) / len(indices)\n",
    "            else:\n",
    "                mean_2 = mean_class \n",
    "                Sw = Sw + ((X_class - mean_class).T @ (X_class - mean_class)) / len(indices)\n",
    "        \n",
    "        mean_difference = (mean_1 - mean_2).reshape(-1, 1)\n",
    "        # Between class covariance matrix\n",
    "        Sb = mean_difference @ mean_difference.T\n",
    "        \n",
    "        matrix = np.linalg.inv(Sw) @ Sb \n",
    "        \n",
    "        eig_val, eig_vec = np.linalg.eig(matrix)\n",
    "        \n",
    "        # Sorting eigen values and eigen vectors in decreasing order\n",
    "        index = np.argsort(eig_val)[::-1]\n",
    "        eig_val = eig_val[index]\n",
    "        eig_vec = eig_vec[:, index]\n",
    "        \n",
    "        eig_vec = eig_vec.real \n",
    "        \n",
    "        self.linear_discriminant = eig_vec[:, 0]\n",
    "        \n",
    "    def transform(self, X):\n",
    "        return self.linear_discriminant @ X.T \n",
    "    \n",
    "    def fit_transform(self, X, y):\n",
    "        self.fit(X, y)\n",
    "        return self.transform(X) "
   ]
  },
  {
   "cell_type": "markdown",
   "metadata": {},
   "source": [
    "Function to calculate Class Separability :"
   ]
  },
  {
   "cell_type": "code",
   "execution_count": 15,
   "metadata": {},
   "outputs": [],
   "source": [
    "def calculate_class_separability(X, y):\n",
    "    classes = np.unique(y)\n",
    "    means = []\n",
    "    vars = []\n",
    "    for i in classes:\n",
    "        indices = []\n",
    "        for j in range(len(y)):\n",
    "            if y[j] == i:\n",
    "                indices.append(j)\n",
    "        X_class = X[indices]\n",
    "        mean_class = np.mean(X_class)\n",
    "        var_class = (X_class - mean_class).T @ (X_class - mean_class)\n",
    "        means.append(mean_class)\n",
    "        vars.append(var_class)\n",
    "    separability = ((means[0] - means[1])**2) / (vars[0] + vars[1])        \n",
    "    return separability"
   ]
  },
  {
   "cell_type": "markdown",
   "metadata": {},
   "source": [
    "We vary num_components in PCA and check what value gives us high separability score "
   ]
  },
  {
   "cell_type": "code",
   "execution_count": 16,
   "metadata": {},
   "outputs": [],
   "source": [
    "separability_scores = []\n",
    "for num_comp in range(1, 21):\n",
    "    pca_object = PCA_scratch(num_comp)\n",
    "    Xr = pca_object.fit_transform(X_train_centered)\n",
    "    lda_object = LDA_scratch()\n",
    "    lda_projection_train = lda_object.fit_transform(Xr, y_train)\n",
    "    separability_scores.append(calculate_class_separability(lda_projection_train, y_train))"
   ]
  },
  {
   "cell_type": "code",
   "execution_count": 26,
   "metadata": {},
   "outputs": [
    {
     "name": "stdout",
     "output_type": "stream",
     "text": [
      "Num_Components = 1, Separability_score = 0.002 \n",
      "Num_Components = 2, Separability_score = 0.044 \n",
      "Num_Components = 3, Separability_score = 0.045 \n",
      "Num_Components = 4, Separability_score = 0.051 \n",
      "Num_Components = 5, Separability_score = 0.069 \n",
      "Num_Components = 6, Separability_score = 0.111 \n",
      "Num_Components = 7, Separability_score = 0.117 \n",
      "Num_Components = 8, Separability_score = 0.299 \n",
      "Num_Components = 9, Separability_score = 0.318 \n",
      "Num_Components = 10, Separability_score = 0.320 \n",
      "Num_Components = 11, Separability_score = 0.320 \n",
      "Num_Components = 12, Separability_score = 0.569 \n",
      "Num_Components = 13, Separability_score = 1.564 \n",
      "Num_Components = 14, Separability_score = 1.575 \n",
      "Num_Components = 15, Separability_score = 1.575 \n",
      "Num_Components = 16, Separability_score = 1.985 \n",
      "Num_Components = 17, Separability_score = 2.774 \n",
      "Num_Components = 18, Separability_score = 4.609 \n",
      "Num_Components = 19, Separability_score = 0.000 \n",
      "Num_Components = 20, Separability_score = 0.000 \n"
     ]
    }
   ],
   "source": [
    "for i, val in enumerate(separability_scores):\n",
    "    print(f'Num_Components = {i + 1}, Separability_score = {val:.3f} ')"
   ]
  },
  {
   "cell_type": "markdown",
   "metadata": {},
   "source": [
    "We observe that num_components = 18 gives us high separability score, so we choose 18 as num_components in PCA"
   ]
  },
  {
   "cell_type": "code",
   "execution_count": 22,
   "metadata": {},
   "outputs": [
    {
     "data": {
      "text/plain": [
       "<matplotlib.legend.Legend at 0x23eae575a20>"
      ]
     },
     "execution_count": 22,
     "metadata": {},
     "output_type": "execute_result"
    },
    {
     "data": {
      "image/png": "[encoded data removed]",
      "text/plain": [
       "<Figure size 640x480 with 1 Axes>"
      ]
     },
     "metadata": {},
     "output_type": "display_data"
    }
   ],
   "source": [
    "num_components = 18\n",
    "pca_object = PCA_scratch(num_components)\n",
    "Xr = pca_object.fit_transform(X_train_centered)\n",
    "lda_object = LDA_scratch()\n",
    "lda_projection_train = lda_object.fit_transform(Xr, y_train)\n",
    "N = np.asarray([0 for i in range(len(lda_projection_train))])\n",
    "fig, ax = plt.subplots()\n",
    "color_dict = {0:'violet', 1:'green', 2:'red'}\n",
    "class_dict = {0:'Sad Face', 1:'Happy Face'}\n",
    "for g in np.unique(y_train):\n",
    "    idx = np.where(y_train==g)\n",
    "    ax.scatter(lda_projection_train[idx],  N[idx], c=color_dict[g], label=class_dict[g], edgecolor='black')\n",
    "ax.set_title('Training Data')\n",
    "ax.set_xlabel('LDA projection')\n",
    "ax.legend()"
   ]
  },
  {
   "cell_type": "markdown",
   "metadata": {},
   "source": [
    "We can see that Happy and Sad classes are separated "
   ]
  },
  {
   "cell_type": "code",
   "execution_count": 23,
   "metadata": {},
   "outputs": [
    {
     "data": {
      "text/plain": [
       "<matplotlib.legend.Legend at 0x23eae8ae620>"
      ]
     },
     "execution_count": 23,
     "metadata": {},
     "output_type": "execute_result"
    },
    {
     "data": {
      "image/png": "[encoded data removed]",
      "text/plain": [
       "<Figure size 640x480 with 1 Axes>"
      ]
     },
     "metadata": {},
     "output_type": "display_data"
    }
   ],
   "source": [
    "Xr_test = pca_object.transform(X_test_centered)\n",
    "lda_projection_test = lda_object.transform(Xr_test)\n",
    "N = np.asarray([0 for i in range(len(lda_projection_test))])\n",
    "fig, ax = plt.subplots()\n",
    "color_dict = {0:'violet', 1:'green', 2:'red'}\n",
    "class_dict = {0:'Sad Face', 1:'Happy Face'}\n",
    "for g in np.unique(y_test):\n",
    "    idx = np.where(y_test==g)\n",
    "    ax.scatter(lda_projection_test[idx],  N[idx], c=color_dict[g], label=class_dict[g], edgecolor='black')\n",
    "ax.set_title('Test Data')\n",
    "ax.set_xlabel('LDA projection')\n",
    "ax.legend()"
   ]
  },
  {
   "cell_type": "markdown",
   "metadata": {},
   "source": [
    "We can see that Happy and Sad classes are separated in the LDA projection of Test data also "
   ]
  },
  {
   "cell_type": "code",
   "execution_count": 29,
   "metadata": {},
   "outputs": [
    {
     "name": "stdout",
     "output_type": "stream",
     "text": [
      "Class Separability score for test data: 0.9991\n"
     ]
    }
   ],
   "source": [
    "print(f'Class Separability score for test data: {calculate_class_separability(lda_projection_test, y_test):.4f}')"
   ]
  }
 ],
 "metadata": {
  "kernelspec": {
   "display_name": "Python 3",
   "language": "python",
   "name": "python3"
  },
  "language_info": {
   "codemirror_mode": {
    "name": "ipython",
    "version": 3
   },
   "file_extension": ".py",
   "mimetype": "text/x-python",
   "name": "python",
   "nbconvert_exporter": "python",
   "pygments_lexer": "ipython3",
   "version": "3.10.13"
  }
 },
 "nbformat": 4,
 "nbformat_minor": 2
}
